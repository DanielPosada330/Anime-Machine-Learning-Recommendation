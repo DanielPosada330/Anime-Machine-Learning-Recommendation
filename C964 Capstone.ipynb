{
 "cells": [
  {
   "cell_type": "code",
   "execution_count": null,
   "id": "ec5a50b5",
   "metadata": {},
   "outputs": [],
   "source": [
    "import pandas as pd\n",
    "import seaborn as sns\n",
    "from IPython.core.display_functions import display\n",
    "from matplotlib import pyplot\n",
    "from sklearn import linear_model, metrics, model_selection\n",
    "from ipywidgets import widgets"
   ]
  },
  {
   "cell_type": "markdown",
   "id": "dfcf7f7e",
   "metadata": {},
   "source": [
    "## Create variable name to hold dataset"
   ]
  },
  {
   "cell_type": "code",
   "execution_count": null,
   "id": "b166936e",
   "metadata": {},
   "outputs": [],
   "source": [
    "url_anime = \"https://raw.githubusercontent.com/DanielPosada330/Anime-Machine-Learning-Recommendation/main/anime.csv\"\n",
    "names = [\"anime_id\", \"name\", \"genre\", \"type\", \"rating\", \"episodes\", \"members\", \"amount of ratings\",\n",
    "         \"category\"]"
   ]
  },
  {
   "cell_type": "markdown",
   "id": "0bfa0b42",
   "metadata": {},
   "source": [
    "## Create dataframe to read csv file"
   ]
  },
  {
   "cell_type": "code",
   "execution_count": null,
   "id": "fe793404",
   "metadata": {},
   "outputs": [],
   "source": [
    "df_anime = pd.read_csv(url_anime, names=names, on_bad_lines=\"skip\", delimiter=\",\")"
   ]
  },
  {
   "cell_type": "markdown",
   "id": "07cbf8ea",
   "metadata": {},
   "source": [
    "## Create model utilizing Logistic Regression"
   ]
  },
  {
   "cell_type": "code",
   "execution_count": null,
   "id": "7d0862dc",
   "metadata": {},
   "outputs": [],
   "source": [
    "mylog_model = linear_model.LogisticRegression()"
   ]
  },
  {
   "cell_type": "markdown",
   "id": "2a587849",
   "metadata": {},
   "source": [
    "## Assign dependent and independent variables from datasets\n",
    "\n",
    "## Dependent variable is rating of the anime"
   ]
  },
  {
   "cell_type": "code",
   "execution_count": null,
   "id": "e89308c0",
   "metadata": {},
   "outputs": [],
   "source": [
    "y = df_anime[[\"category\"]].copy()"
   ]
  },
  {
   "cell_type": "markdown",
   "id": "d7d441ad",
   "metadata": {},
   "source": [
    "## Independent variables are amount of episodes, members and amount of ratings"
   ]
  },
  {
   "cell_type": "code",
   "execution_count": null,
   "id": "4f45f097",
   "metadata": {},
   "outputs": [],
   "source": [
    "X = df_anime.drop(columns=[\"anime_id\", \"name\", \"genre\", \"type\", \"rating\", \"category\"])"
   ]
  },
  {
   "cell_type": "markdown",
   "id": "f6962b06",
   "metadata": {},
   "source": [
    "## Testing the datasets"
   ]
  },
  {
   "cell_type": "code",
   "execution_count": null,
   "id": "8cf550c6",
   "metadata": {},
   "outputs": [],
   "source": [
    "X_train, X_test, y_train, y_test = model_selection.train_test_split(X, y, test_size=0.3, random_state=42)\n",
    "\n",
    "y_train_array, y_test_array = y_train['category'].values, y_test['category'].values"
   ]
  },
  {
   "cell_type": "markdown",
   "id": "66c453df",
   "metadata": {},
   "source": [
    "## Train the model using .fit() method"
   ]
  },
  {
   "cell_type": "code",
   "execution_count": null,
   "id": "cd3a6de5",
   "metadata": {},
   "outputs": [],
   "source": [
    "mylog_model.fit(X_train, y_train_array)"
   ]
  },
  {
   "cell_type": "markdown",
   "id": "540f856d",
   "metadata": {},
   "source": [
    "## Utilize the trained model to make a prediction on anime ratings"
   ]
  },
  {
   "cell_type": "code",
   "execution_count": null,
   "id": "29ba543b",
   "metadata": {},
   "outputs": [],
   "source": [
    "y_pred = mylog_model.predict(X_test)"
   ]
  },
  {
   "cell_type": "markdown",
   "id": "06d0b4e8",
   "metadata": {},
   "source": [
    "## Acquire accuracy score based on prediction"
   ]
  },
  {
   "cell_type": "code",
   "execution_count": null,
   "id": "ddd0ad36",
   "metadata": {},
   "outputs": [],
   "source": [
    "print(metrics.accuracy_score(y_test, y_pred))"
   ]
  },
  {
   "cell_type": "markdown",
   "id": "ffa7abb9",
   "metadata": {},
   "source": [
    "## Add histogram visualization"
   ]
  },
  {
   "cell_type": "code",
   "execution_count": null,
   "id": "69f99cf8",
   "metadata": {},
   "outputs": [],
   "source": [
    "sns.histplot(df_anime, x=\"amount of ratings\", hue=\"category\", kde=True, bins=30)\n",
    "pyplot.show()"
   ]
  },
  {
   "cell_type": "markdown",
   "id": "1b7206a8",
   "metadata": {},
   "source": [
    "## Add scatter plot visualization"
   ]
  },
  {
   "cell_type": "code",
   "execution_count": null,
   "id": "b13b04be",
   "metadata": {},
   "outputs": [],
   "source": [
    "sns.lmplot(x=\"members\", y=\"amount of ratings\", data=df_anime, fit_reg=False, hue=\"category\")\n",
    "pyplot.show()"
   ]
  },
  {
   "cell_type": "markdown",
   "id": "a4e3435b",
   "metadata": {},
   "source": [
    "## Add boxplot visualization"
   ]
  },
  {
   "cell_type": "code",
   "execution_count": null,
   "id": "3c376c43",
   "metadata": {},
   "outputs": [],
   "source": [
    "sns.set(style=\"whitegrid\")\n",
    "sns.boxplot(data=df_anime, x=\"category\", y=\"episodes\")\n",
    "pyplot.show()"
   ]
  },
  {
   "cell_type": "markdown",
   "id": "4a1c1803",
   "metadata": {},
   "source": [
    "## User interface start with input from user"
   ]
  },
  {
   "cell_type": "code",
   "execution_count": null,
   "id": "354754ce",
   "metadata": {},
   "outputs": [],
   "source": [
    "member_widget = widgets.FloatText(description='members:', value='0')\n",
    "ratings_widget = widgets.FloatText(description='amount of ratings:', value='0')\n",
    "episodes_widget = widgets.FloatText(description='episodes:', value='0')"
   ]
  },
  {
   "cell_type": "markdown",
   "id": "5aef25a0",
   "metadata": {},
   "source": [
    "## Submit button to predict values based on logistic regression"
   ]
  },
  {
   "cell_type": "code",
   "execution_count": null,
   "id": "c3494499",
   "metadata": {},
   "outputs": [],
   "source": [
    "button_predict = widgets.Button( description='Submit' )\n",
    "button_ouput = widgets.Label(value='Enter your desired values and press the \\\"Submit\\\" button when ready.' )"
   ]
  },
  {
   "cell_type": "markdown",
   "id": "3d2a2eca",
   "metadata": {},
   "source": [
    "## Function to describe button action after being clicked"
   ]
  },
  {
   "cell_type": "code",
   "execution_count": null,
   "id": "745b83a6",
   "metadata": {},
   "outputs": [],
   "source": [
    "def on_click_submit(b):\n",
    "    predicition = mylog_model.predict([[\n",
    "        member_widget.value, ratings_widget.value, episodes_widget.value]])\n",
    "    button_ouput.value='Prediction = '+ str(predicition[0])\n",
    "button_predict.on_click(on_click_submit)"
   ]
  },
  {
   "cell_type": "markdown",
   "id": "cec24a74",
   "metadata": {},
   "source": [
    "## Display text boxes and buttons inside a VBox"
   ]
  },
  {
   "cell_type": "code",
   "execution_count": null,
   "id": "8a5c8003",
   "metadata": {},
   "outputs": [],
   "source": [
    "vb=widgets.VBox([member_widget, ratings_widget, episodes_widget, button_predict,button_ouput])\n",
    "print('\\033[1m' + 'Enter in values to make a prediction' + '\\033[0m')\n",
    "display(vb)"
   ]
  }
 ],
 "metadata": {
  "kernelspec": {
   "display_name": "Python 3 (ipykernel)",
   "language": "python",
   "name": "python3"
  },
  "language_info": {
   "codemirror_mode": {
    "name": "ipython",
    "version": 3
   },
   "file_extension": ".py",
   "mimetype": "text/x-python",
   "name": "python",
   "nbconvert_exporter": "python",
   "pygments_lexer": "ipython3",
   "version": "3.11.5"
  }
 },
 "nbformat": 4,
 "nbformat_minor": 5
}
